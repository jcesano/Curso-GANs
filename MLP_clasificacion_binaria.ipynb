{
  "nbformat": 4,
  "nbformat_minor": 0,
  "metadata": {
    "colab": {
      "name": "MLP-clasificacion-binaria.ipynb",
      "provenance": [],
      "authorship_tag": "ABX9TyOuhhsx5/UKdWfaRmlVyRsg",
      "include_colab_link": true
    },
    "kernelspec": {
      "name": "python3",
      "display_name": "Python 3"
    },
    "language_info": {
      "name": "python"
    }
  },
  "cells": [
    {
      "cell_type": "markdown",
      "metadata": {
        "id": "view-in-github",
        "colab_type": "text"
      },
      "source": [
        "<a href=\"https://colab.research.google.com/github/nesmachnow/Curso-GANs/blob/main/MLP_clasificacion_binaria.ipynb\" target=\"_parent\"><img src=\"https://colab.research.google.com/assets/colab-badge.svg\" alt=\"Open In Colab\"/></a>"
      ]
    },
    {
      "cell_type": "markdown",
      "metadata": {
        "id": "ntnTEkypCl67"
      },
      "source": [
        "Código de ejemplo de 'Get Started in Deep Learning With tf.keras' por Jason Brownlee"
      ]
    },
    {
      "cell_type": "code",
      "metadata": {
        "id": "2y3ZiWTEczMx"
      },
      "source": [
        "import tensorflow"
      ],
      "execution_count": 17,
      "outputs": []
    },
    {
      "cell_type": "code",
      "metadata": {
        "id": "GZpsretrdJ9w"
      },
      "source": [
        "from pandas import read_csv\n",
        "from sklearn.model_selection import train_test_split\n",
        "from sklearn.preprocessing import LabelEncoder\n",
        "from tensorflow.keras import Sequential\n",
        "from tensorflow.keras.layers import Dense"
      ],
      "execution_count": 18,
      "outputs": []
    },
    {
      "cell_type": "markdown",
      "metadata": {
        "id": "73SFg189ChQK"
      },
      "source": [
        "Cargar el dataset"
      ]
    },
    {
      "cell_type": "code",
      "metadata": {
        "id": "adLz0174dcQo"
      },
      "source": [
        "df = read_csv('https://raw.githubusercontent.com/jbrownlee/Datasets/master/ionosphere.csv', header=None)\n"
      ],
      "execution_count": 19,
      "outputs": []
    },
    {
      "cell_type": "markdown",
      "metadata": {
        "id": "ix8l9CiLds2u"
      },
      "source": [
        "Particionar en columnas de entrada y de salida"
      ]
    },
    {
      "cell_type": "code",
      "metadata": {
        "id": "eo4HS3vvdvqR"
      },
      "source": [
        "X, y = df.values[:, :-1], df.values[:, -1]"
      ],
      "execution_count": 20,
      "outputs": []
    },
    {
      "cell_type": "markdown",
      "metadata": {
        "id": "46KybUI-d2N7"
      },
      "source": [
        "Verificar que los datos son números de punto flotante\n",
        "\n"
      ]
    },
    {
      "cell_type": "code",
      "metadata": {
        "id": "5jHGx-SJd4nj"
      },
      "source": [
        "X = X.astype('float32')"
      ],
      "execution_count": 21,
      "outputs": []
    },
    {
      "cell_type": "markdown",
      "metadata": {
        "id": "b-NXmZXod-7J"
      },
      "source": [
        "Codificar strings a enteros"
      ]
    },
    {
      "cell_type": "code",
      "metadata": {
        "id": "wqBen_aXeB4R"
      },
      "source": [
        "y = LabelEncoder().fit_transform(y)"
      ],
      "execution_count": 22,
      "outputs": []
    },
    {
      "cell_type": "markdown",
      "metadata": {
        "id": "1P4FjZWgemLD"
      },
      "source": [
        "Particionar en datasets de entrenamiento y validación"
      ]
    },
    {
      "cell_type": "code",
      "metadata": {
        "colab": {
          "base_uri": "https://localhost:8080/"
        },
        "id": "uKXEs9L-eC-t",
        "outputId": "1ec1e89e-edc7-4a88-ffc2-3ba7b64cdda0"
      },
      "source": [
        "X_train,X_test,y_train,y_test = train_test_split(X,y,test_size=0.33)\n",
        "print(X_train.shape, X_test.shape, y_train.shape, y_test.shape)"
      ],
      "execution_count": 23,
      "outputs": [
        {
          "output_type": "stream",
          "name": "stdout",
          "text": [
            "(235, 34) (116, 34) (235,) (116,)\n"
          ]
        }
      ]
    },
    {
      "cell_type": "markdown",
      "metadata": {
        "id": "8odc0mWneozx"
      },
      "source": [
        "Determinar el número de características de entrada"
      ]
    },
    {
      "cell_type": "code",
      "metadata": {
        "id": "OZ3ciDLfeI28"
      },
      "source": [
        "n_features = X_train.shape[1]"
      ],
      "execution_count": 24,
      "outputs": []
    },
    {
      "cell_type": "markdown",
      "metadata": {
        "id": "dAicQtM8ewrr"
      },
      "source": [
        "Definir el modelo"
      ]
    },
    {
      "cell_type": "code",
      "metadata": {
        "id": "9tAYvPrqeLUa"
      },
      "source": [
        "model = Sequential()\n",
        "model.add(Dense(10, activation='relu', kernel_initializer='he_normal', input_shape=(n_features,)))\n",
        "model.add(Dense(8, activation='relu', kernel_initializer='he_normal'))\n",
        "model.add(Dense(1, activation='sigmoid'))"
      ],
      "execution_count": 25,
      "outputs": []
    },
    {
      "cell_type": "markdown",
      "metadata": {
        "id": "AoBNBBwsezzO"
      },
      "source": [
        "Compilar el modelo"
      ]
    },
    {
      "cell_type": "code",
      "metadata": {
        "id": "RbOsoCZ4eOas"
      },
      "source": [
        "model.compile(optimizer='adam', loss='binary_crossentropy', metrics=['accuracy'])"
      ],
      "execution_count": 26,
      "outputs": []
    },
    {
      "cell_type": "markdown",
      "metadata": {
        "id": "dOWa-LQVe2Pi"
      },
      "source": [
        "Ajustar el modelo"
      ]
    },
    {
      "cell_type": "code",
      "metadata": {
        "colab": {
          "base_uri": "https://localhost:8080/"
        },
        "id": "mVZ_niYUeROa",
        "outputId": "b73124f5-9259-4b18-9641-3f693327ec65"
      },
      "source": [
        "model.fit(X_train, y_train, epochs=150, batch_size=32, verbose=0)"
      ],
      "execution_count": 27,
      "outputs": [
        {
          "output_type": "execute_result",
          "data": {
            "text/plain": [
              "<keras.callbacks.History at 0x7f3543795e50>"
            ]
          },
          "metadata": {},
          "execution_count": 27
        }
      ]
    },
    {
      "cell_type": "markdown",
      "metadata": {
        "id": "pQOZF7Yye4_B"
      },
      "source": [
        "Evaluar el modelo"
      ]
    },
    {
      "cell_type": "code",
      "metadata": {
        "colab": {
          "base_uri": "https://localhost:8080/"
        },
        "id": "W-78QvMFeWn7",
        "outputId": "f74be35f-c394-415d-e760-c655ca7c4be7"
      },
      "source": [
        "loss, acc = model.evaluate(X_test, y_test, verbose=0)\n",
        "print('Test Accuracy: %.3f' % acc)"
      ],
      "execution_count": 28,
      "outputs": [
        {
          "output_type": "stream",
          "name": "stdout",
          "text": [
            "Test Accuracy: 0.922\n"
          ]
        }
      ]
    },
    {
      "cell_type": "markdown",
      "metadata": {
        "id": "1IB7CuFte-B6"
      },
      "source": [
        "Utilizar el modelo para hacer una predicción"
      ]
    },
    {
      "cell_type": "code",
      "metadata": {
        "colab": {
          "base_uri": "https://localhost:8080/"
        },
        "id": "J72F-7B6eaFj",
        "outputId": "b124d76e-036f-49e8-ccc9-f31e005c754d"
      },
      "source": [
        "row = [1,0,0.99539,-0.05889,0.85243,0.02306,0.83398,-0.37708,1,0.03760,0.85243,-0.17755,0.59755,-0.44945,0.60536,-0.38223,0.84356,-0.38542,0.58212,-0.32192,0.56971,-0.29674,0.36946,-0.47357,0.56811,-0.51171,0.41078,-0.46168,0.21266,-0.34090,0.42267,-0.54487,0.18641,-0.45300]\n",
        "yhat = model.predict([row])\n",
        "print('Predicted: %.3f' % yhat)"
      ],
      "execution_count": 29,
      "outputs": [
        {
          "output_type": "stream",
          "name": "stdout",
          "text": [
            "Predicted: 0.993\n"
          ]
        }
      ]
    }
  ]
}