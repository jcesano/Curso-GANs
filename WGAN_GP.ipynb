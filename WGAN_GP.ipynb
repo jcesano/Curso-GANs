{
  "nbformat": 4,
  "nbformat_minor": 0,
  "metadata": {
    "accelerator": "GPU",
    "colab": {
      "name": "WGAN-GP.ipynb",
      "provenance": [],
      "include_colab_link": true
    },
    "kernelspec": {
      "display_name": "Python 3",
      "language": "python",
      "name": "python3"
    },
    "language_info": {
      "codemirror_mode": {
        "name": "ipython",
        "version": 3
      },
      "file_extension": ".py",
      "mimetype": "text/x-python",
      "name": "python",
      "nbconvert_exporter": "python",
      "pygments_lexer": "ipython3",
      "version": "3.6.3"
    },
    "widgets": {
      "application/vnd.jupyter.widget-state+json": {
        "f0327cb77e364a52b62cfa8c03d13d99": {
          "model_module": "@jupyter-widgets/controls",
          "model_name": "HBoxModel",
          "model_module_version": "1.5.0",
          "state": {
            "_view_name": "HBoxView",
            "_dom_classes": [],
            "_model_name": "HBoxModel",
            "_view_module": "@jupyter-widgets/controls",
            "_model_module_version": "1.5.0",
            "_view_count": null,
            "_view_module_version": "1.5.0",
            "box_style": "",
            "layout": "IPY_MODEL_f76ac0e6e930474d90b8ebd4ae151d1a",
            "_model_module": "@jupyter-widgets/controls",
            "children": [
              "IPY_MODEL_e9887127384643888d37933113d71729",
              "IPY_MODEL_9dc60186fbe94907a6512c71a3c7b60a",
              "IPY_MODEL_1d2889708927439d943b56e2cd2853e4"
            ]
          }
        },
        "f76ac0e6e930474d90b8ebd4ae151d1a": {
          "model_module": "@jupyter-widgets/base",
          "model_name": "LayoutModel",
          "model_module_version": "1.2.0",
          "state": {
            "_view_name": "LayoutView",
            "grid_template_rows": null,
            "right": null,
            "justify_content": null,
            "_view_module": "@jupyter-widgets/base",
            "overflow": null,
            "_model_module_version": "1.2.0",
            "_view_count": null,
            "flex_flow": null,
            "width": null,
            "min_width": null,
            "border": null,
            "align_items": null,
            "bottom": null,
            "_model_module": "@jupyter-widgets/base",
            "top": null,
            "grid_column": null,
            "overflow_y": null,
            "overflow_x": null,
            "grid_auto_flow": null,
            "grid_area": null,
            "grid_template_columns": null,
            "flex": null,
            "_model_name": "LayoutModel",
            "justify_items": null,
            "grid_row": null,
            "max_height": null,
            "align_content": null,
            "visibility": null,
            "align_self": null,
            "height": null,
            "min_height": null,
            "padding": null,
            "grid_auto_rows": null,
            "grid_gap": null,
            "max_width": null,
            "order": null,
            "_view_module_version": "1.2.0",
            "grid_template_areas": null,
            "object_position": null,
            "object_fit": null,
            "grid_auto_columns": null,
            "margin": null,
            "display": null,
            "left": null
          }
        },
        "e9887127384643888d37933113d71729": {
          "model_module": "@jupyter-widgets/controls",
          "model_name": "HTMLModel",
          "model_module_version": "1.5.0",
          "state": {
            "_view_name": "HTMLView",
            "style": "IPY_MODEL_e83558bf10d045048e6d2c3cc1e1dfdc",
            "_dom_classes": [],
            "description": "",
            "_model_name": "HTMLModel",
            "placeholder": "​",
            "_view_module": "@jupyter-widgets/controls",
            "_model_module_version": "1.5.0",
            "value": "",
            "_view_count": null,
            "_view_module_version": "1.5.0",
            "description_tooltip": null,
            "_model_module": "@jupyter-widgets/controls",
            "layout": "IPY_MODEL_d4a880b211274099a3cc5540a11de574"
          }
        },
        "9dc60186fbe94907a6512c71a3c7b60a": {
          "model_module": "@jupyter-widgets/controls",
          "model_name": "FloatProgressModel",
          "model_module_version": "1.5.0",
          "state": {
            "_view_name": "ProgressView",
            "style": "IPY_MODEL_666a7cd01fd1483a9f7b1032cc409012",
            "_dom_classes": [],
            "description": "",
            "_model_name": "FloatProgressModel",
            "bar_style": "success",
            "max": 9912422,
            "_view_module": "@jupyter-widgets/controls",
            "_model_module_version": "1.5.0",
            "value": 9912422,
            "_view_count": null,
            "_view_module_version": "1.5.0",
            "orientation": "horizontal",
            "min": 0,
            "description_tooltip": null,
            "_model_module": "@jupyter-widgets/controls",
            "layout": "IPY_MODEL_e0638bed812a4ed6a36f4269985a01f1"
          }
        },
        "1d2889708927439d943b56e2cd2853e4": {
          "model_module": "@jupyter-widgets/controls",
          "model_name": "HTMLModel",
          "model_module_version": "1.5.0",
          "state": {
            "_view_name": "HTMLView",
            "style": "IPY_MODEL_a7c6f4fba8494a09a0483238b6dd7718",
            "_dom_classes": [],
            "description": "",
            "_model_name": "HTMLModel",
            "placeholder": "​",
            "_view_module": "@jupyter-widgets/controls",
            "_model_module_version": "1.5.0",
            "value": " 9913344/? [00:00&lt;00:00, 17693401.55it/s]",
            "_view_count": null,
            "_view_module_version": "1.5.0",
            "description_tooltip": null,
            "_model_module": "@jupyter-widgets/controls",
            "layout": "IPY_MODEL_5571f734815b4cecbc0073bb3fa83a06"
          }
        },
        "e83558bf10d045048e6d2c3cc1e1dfdc": {
          "model_module": "@jupyter-widgets/controls",
          "model_name": "DescriptionStyleModel",
          "model_module_version": "1.5.0",
          "state": {
            "_view_name": "StyleView",
            "_model_name": "DescriptionStyleModel",
            "description_width": "",
            "_view_module": "@jupyter-widgets/base",
            "_model_module_version": "1.5.0",
            "_view_count": null,
            "_view_module_version": "1.2.0",
            "_model_module": "@jupyter-widgets/controls"
          }
        },
        "d4a880b211274099a3cc5540a11de574": {
          "model_module": "@jupyter-widgets/base",
          "model_name": "LayoutModel",
          "model_module_version": "1.2.0",
          "state": {
            "_view_name": "LayoutView",
            "grid_template_rows": null,
            "right": null,
            "justify_content": null,
            "_view_module": "@jupyter-widgets/base",
            "overflow": null,
            "_model_module_version": "1.2.0",
            "_view_count": null,
            "flex_flow": null,
            "width": null,
            "min_width": null,
            "border": null,
            "align_items": null,
            "bottom": null,
            "_model_module": "@jupyter-widgets/base",
            "top": null,
            "grid_column": null,
            "overflow_y": null,
            "overflow_x": null,
            "grid_auto_flow": null,
            "grid_area": null,
            "grid_template_columns": null,
            "flex": null,
            "_model_name": "LayoutModel",
            "justify_items": null,
            "grid_row": null,
            "max_height": null,
            "align_content": null,
            "visibility": null,
            "align_self": null,
            "height": null,
            "min_height": null,
            "padding": null,
            "grid_auto_rows": null,
            "grid_gap": null,
            "max_width": null,
            "order": null,
            "_view_module_version": "1.2.0",
            "grid_template_areas": null,
            "object_position": null,
            "object_fit": null,
            "grid_auto_columns": null,
            "margin": null,
            "display": null,
            "left": null
          }
        },
        "666a7cd01fd1483a9f7b1032cc409012": {
          "model_module": "@jupyter-widgets/controls",
          "model_name": "ProgressStyleModel",
          "model_module_version": "1.5.0",
          "state": {
            "_view_name": "StyleView",
            "_model_name": "ProgressStyleModel",
            "description_width": "",
            "_view_module": "@jupyter-widgets/base",
            "_model_module_version": "1.5.0",
            "_view_count": null,
            "_view_module_version": "1.2.0",
            "bar_color": null,
            "_model_module": "@jupyter-widgets/controls"
          }
        },
        "e0638bed812a4ed6a36f4269985a01f1": {
          "model_module": "@jupyter-widgets/base",
          "model_name": "LayoutModel",
          "model_module_version": "1.2.0",
          "state": {
            "_view_name": "LayoutView",
            "grid_template_rows": null,
            "right": null,
            "justify_content": null,
            "_view_module": "@jupyter-widgets/base",
            "overflow": null,
            "_model_module_version": "1.2.0",
            "_view_count": null,
            "flex_flow": null,
            "width": null,
            "min_width": null,
            "border": null,
            "align_items": null,
            "bottom": null,
            "_model_module": "@jupyter-widgets/base",
            "top": null,
            "grid_column": null,
            "overflow_y": null,
            "overflow_x": null,
            "grid_auto_flow": null,
            "grid_area": null,
            "grid_template_columns": null,
            "flex": null,
            "_model_name": "LayoutModel",
            "justify_items": null,
            "grid_row": null,
            "max_height": null,
            "align_content": null,
            "visibility": null,
            "align_self": null,
            "height": null,
            "min_height": null,
            "padding": null,
            "grid_auto_rows": null,
            "grid_gap": null,
            "max_width": null,
            "order": null,
            "_view_module_version": "1.2.0",
            "grid_template_areas": null,
            "object_position": null,
            "object_fit": null,
            "grid_auto_columns": null,
            "margin": null,
            "display": null,
            "left": null
          }
        },
        "a7c6f4fba8494a09a0483238b6dd7718": {
          "model_module": "@jupyter-widgets/controls",
          "model_name": "DescriptionStyleModel",
          "model_module_version": "1.5.0",
          "state": {
            "_view_name": "StyleView",
            "_model_name": "DescriptionStyleModel",
            "description_width": "",
            "_view_module": "@jupyter-widgets/base",
            "_model_module_version": "1.5.0",
            "_view_count": null,
            "_view_module_version": "1.2.0",
            "_model_module": "@jupyter-widgets/controls"
          }
        },
        "5571f734815b4cecbc0073bb3fa83a06": {
          "model_module": "@jupyter-widgets/base",
          "model_name": "LayoutModel",
          "model_module_version": "1.2.0",
          "state": {
            "_view_name": "LayoutView",
            "grid_template_rows": null,
            "right": null,
            "justify_content": null,
            "_view_module": "@jupyter-widgets/base",
            "overflow": null,
            "_model_module_version": "1.2.0",
            "_view_count": null,
            "flex_flow": null,
            "width": null,
            "min_width": null,
            "border": null,
            "align_items": null,
            "bottom": null,
            "_model_module": "@jupyter-widgets/base",
            "top": null,
            "grid_column": null,
            "overflow_y": null,
            "overflow_x": null,
            "grid_auto_flow": null,
            "grid_area": null,
            "grid_template_columns": null,
            "flex": null,
            "_model_name": "LayoutModel",
            "justify_items": null,
            "grid_row": null,
            "max_height": null,
            "align_content": null,
            "visibility": null,
            "align_self": null,
            "height": null,
            "min_height": null,
            "padding": null,
            "grid_auto_rows": null,
            "grid_gap": null,
            "max_width": null,
            "order": null,
            "_view_module_version": "1.2.0",
            "grid_template_areas": null,
            "object_position": null,
            "object_fit": null,
            "grid_auto_columns": null,
            "margin": null,
            "display": null,
            "left": null
          }
        },
        "981ab184173342bb8312fc78808caa7b": {
          "model_module": "@jupyter-widgets/controls",
          "model_name": "HBoxModel",
          "model_module_version": "1.5.0",
          "state": {
            "_view_name": "HBoxView",
            "_dom_classes": [],
            "_model_name": "HBoxModel",
            "_view_module": "@jupyter-widgets/controls",
            "_model_module_version": "1.5.0",
            "_view_count": null,
            "_view_module_version": "1.5.0",
            "box_style": "",
            "layout": "IPY_MODEL_827b9c9b0a41456db6b9d110ddec81f6",
            "_model_module": "@jupyter-widgets/controls",
            "children": [
              "IPY_MODEL_9650ff5d5da64be2acb6696095810be2",
              "IPY_MODEL_72de3102b72842e485436a0937850fab",
              "IPY_MODEL_2507ba2df5fa4286b69e0915ea9e5344"
            ]
          }
        },
        "827b9c9b0a41456db6b9d110ddec81f6": {
          "model_module": "@jupyter-widgets/base",
          "model_name": "LayoutModel",
          "model_module_version": "1.2.0",
          "state": {
            "_view_name": "LayoutView",
            "grid_template_rows": null,
            "right": null,
            "justify_content": null,
            "_view_module": "@jupyter-widgets/base",
            "overflow": null,
            "_model_module_version": "1.2.0",
            "_view_count": null,
            "flex_flow": null,
            "width": null,
            "min_width": null,
            "border": null,
            "align_items": null,
            "bottom": null,
            "_model_module": "@jupyter-widgets/base",
            "top": null,
            "grid_column": null,
            "overflow_y": null,
            "overflow_x": null,
            "grid_auto_flow": null,
            "grid_area": null,
            "grid_template_columns": null,
            "flex": null,
            "_model_name": "LayoutModel",
            "justify_items": null,
            "grid_row": null,
            "max_height": null,
            "align_content": null,
            "visibility": null,
            "align_self": null,
            "height": null,
            "min_height": null,
            "padding": null,
            "grid_auto_rows": null,
            "grid_gap": null,
            "max_width": null,
            "order": null,
            "_view_module_version": "1.2.0",
            "grid_template_areas": null,
            "object_position": null,
            "object_fit": null,
            "grid_auto_columns": null,
            "margin": null,
            "display": null,
            "left": null
          }
        },
        "9650ff5d5da64be2acb6696095810be2": {
          "model_module": "@jupyter-widgets/controls",
          "model_name": "HTMLModel",
          "model_module_version": "1.5.0",
          "state": {
            "_view_name": "HTMLView",
            "style": "IPY_MODEL_79095f5b92c945feb58317412a7d1caf",
            "_dom_classes": [],
            "description": "",
            "_model_name": "HTMLModel",
            "placeholder": "​",
            "_view_module": "@jupyter-widgets/controls",
            "_model_module_version": "1.5.0",
            "value": "",
            "_view_count": null,
            "_view_module_version": "1.5.0",
            "description_tooltip": null,
            "_model_module": "@jupyter-widgets/controls",
            "layout": "IPY_MODEL_206cc087dc88451d8c15714132ccbec2"
          }
        },
        "72de3102b72842e485436a0937850fab": {
          "model_module": "@jupyter-widgets/controls",
          "model_name": "FloatProgressModel",
          "model_module_version": "1.5.0",
          "state": {
            "_view_name": "ProgressView",
            "style": "IPY_MODEL_c898aeaacc334701a3d9ce1211e8d0a4",
            "_dom_classes": [],
            "description": "",
            "_model_name": "FloatProgressModel",
            "bar_style": "success",
            "max": 28881,
            "_view_module": "@jupyter-widgets/controls",
            "_model_module_version": "1.5.0",
            "value": 28881,
            "_view_count": null,
            "_view_module_version": "1.5.0",
            "orientation": "horizontal",
            "min": 0,
            "description_tooltip": null,
            "_model_module": "@jupyter-widgets/controls",
            "layout": "IPY_MODEL_9428a2358f46471587e88dd388f1346e"
          }
        },
        "2507ba2df5fa4286b69e0915ea9e5344": {
          "model_module": "@jupyter-widgets/controls",
          "model_name": "HTMLModel",
          "model_module_version": "1.5.0",
          "state": {
            "_view_name": "HTMLView",
            "style": "IPY_MODEL_fdabef0b0e454dc8881f590cd47c86d1",
            "_dom_classes": [],
            "description": "",
            "_model_name": "HTMLModel",
            "placeholder": "​",
            "_view_module": "@jupyter-widgets/controls",
            "_model_module_version": "1.5.0",
            "value": " 29696/? [00:00&lt;00:00, 726211.88it/s]",
            "_view_count": null,
            "_view_module_version": "1.5.0",
            "description_tooltip": null,
            "_model_module": "@jupyter-widgets/controls",
            "layout": "IPY_MODEL_b19a5ef7e2994d159c3a904c1f615d2e"
          }
        },
        "79095f5b92c945feb58317412a7d1caf": {
          "model_module": "@jupyter-widgets/controls",
          "model_name": "DescriptionStyleModel",
          "model_module_version": "1.5.0",
          "state": {
            "_view_name": "StyleView",
            "_model_name": "DescriptionStyleModel",
            "description_width": "",
            "_view_module": "@jupyter-widgets/base",
            "_model_module_version": "1.5.0",
            "_view_count": null,
            "_view_module_version": "1.2.0",
            "_model_module": "@jupyter-widgets/controls"
          }
        },
        "206cc087dc88451d8c15714132ccbec2": {
          "model_module": "@jupyter-widgets/base",
          "model_name": "LayoutModel",
          "model_module_version": "1.2.0",
          "state": {
            "_view_name": "LayoutView",
            "grid_template_rows": null,
            "right": null,
            "justify_content": null,
            "_view_module": "@jupyter-widgets/base",
            "overflow": null,
            "_model_module_version": "1.2.0",
            "_view_count": null,
            "flex_flow": null,
            "width": null,
            "min_width": null,
            "border": null,
            "align_items": null,
            "bottom": null,
            "_model_module": "@jupyter-widgets/base",
            "top": null,
            "grid_column": null,
            "overflow_y": null,
            "overflow_x": null,
            "grid_auto_flow": null,
            "grid_area": null,
            "grid_template_columns": null,
            "flex": null,
            "_model_name": "LayoutModel",
            "justify_items": null,
            "grid_row": null,
            "max_height": null,
            "align_content": null,
            "visibility": null,
            "align_self": null,
            "height": null,
            "min_height": null,
            "padding": null,
            "grid_auto_rows": null,
            "grid_gap": null,
            "max_width": null,
            "order": null,
            "_view_module_version": "1.2.0",
            "grid_template_areas": null,
            "object_position": null,
            "object_fit": null,
            "grid_auto_columns": null,
            "margin": null,
            "display": null,
            "left": null
          }
        },
        "c898aeaacc334701a3d9ce1211e8d0a4": {
          "model_module": "@jupyter-widgets/controls",
          "model_name": "ProgressStyleModel",
          "model_module_version": "1.5.0",
          "state": {
            "_view_name": "StyleView",
            "_model_name": "ProgressStyleModel",
            "description_width": "",
            "_view_module": "@jupyter-widgets/base",
            "_model_module_version": "1.5.0",
            "_view_count": null,
            "_view_module_version": "1.2.0",
            "bar_color": null,
            "_model_module": "@jupyter-widgets/controls"
          }
        },
        "9428a2358f46471587e88dd388f1346e": {
          "model_module": "@jupyter-widgets/base",
          "model_name": "LayoutModel",
          "model_module_version": "1.2.0",
          "state": {
            "_view_name": "LayoutView",
            "grid_template_rows": null,
            "right": null,
            "justify_content": null,
            "_view_module": "@jupyter-widgets/base",
            "overflow": null,
            "_model_module_version": "1.2.0",
            "_view_count": null,
            "flex_flow": null,
            "width": null,
            "min_width": null,
            "border": null,
            "align_items": null,
            "bottom": null,
            "_model_module": "@jupyter-widgets/base",
            "top": null,
            "grid_column": null,
            "overflow_y": null,
            "overflow_x": null,
            "grid_auto_flow": null,
            "grid_area": null,
            "grid_template_columns": null,
            "flex": null,
            "_model_name": "LayoutModel",
            "justify_items": null,
            "grid_row": null,
            "max_height": null,
            "align_content": null,
            "visibility": null,
            "align_self": null,
            "height": null,
            "min_height": null,
            "padding": null,
            "grid_auto_rows": null,
            "grid_gap": null,
            "max_width": null,
            "order": null,
            "_view_module_version": "1.2.0",
            "grid_template_areas": null,
            "object_position": null,
            "object_fit": null,
            "grid_auto_columns": null,
            "margin": null,
            "display": null,
            "left": null
          }
        },
        "fdabef0b0e454dc8881f590cd47c86d1": {
          "model_module": "@jupyter-widgets/controls",
          "model_name": "DescriptionStyleModel",
          "model_module_version": "1.5.0",
          "state": {
            "_view_name": "StyleView",
            "_model_name": "DescriptionStyleModel",
            "description_width": "",
            "_view_module": "@jupyter-widgets/base",
            "_model_module_version": "1.5.0",
            "_view_count": null,
            "_view_module_version": "1.2.0",
            "_model_module": "@jupyter-widgets/controls"
          }
        },
        "b19a5ef7e2994d159c3a904c1f615d2e": {
          "model_module": "@jupyter-widgets/base",
          "model_name": "LayoutModel",
          "model_module_version": "1.2.0",
          "state": {
            "_view_name": "LayoutView",
            "grid_template_rows": null,
            "right": null,
            "justify_content": null,
            "_view_module": "@jupyter-widgets/base",
            "overflow": null,
            "_model_module_version": "1.2.0",
            "_view_count": null,
            "flex_flow": null,
            "width": null,
            "min_width": null,
            "border": null,
            "align_items": null,
            "bottom": null,
            "_model_module": "@jupyter-widgets/base",
            "top": null,
            "grid_column": null,
            "overflow_y": null,
            "overflow_x": null,
            "grid_auto_flow": null,
            "grid_area": null,
            "grid_template_columns": null,
            "flex": null,
            "_model_name": "LayoutModel",
            "justify_items": null,
            "grid_row": null,
            "max_height": null,
            "align_content": null,
            "visibility": null,
            "align_self": null,
            "height": null,
            "min_height": null,
            "padding": null,
            "grid_auto_rows": null,
            "grid_gap": null,
            "max_width": null,
            "order": null,
            "_view_module_version": "1.2.0",
            "grid_template_areas": null,
            "object_position": null,
            "object_fit": null,
            "grid_auto_columns": null,
            "margin": null,
            "display": null,
            "left": null
          }
        },
        "42cb151a2c1e4c188ed90c4c03bcc0f1": {
          "model_module": "@jupyter-widgets/controls",
          "model_name": "HBoxModel",
          "model_module_version": "1.5.0",
          "state": {
            "_view_name": "HBoxView",
            "_dom_classes": [],
            "_model_name": "HBoxModel",
            "_view_module": "@jupyter-widgets/controls",
            "_model_module_version": "1.5.0",
            "_view_count": null,
            "_view_module_version": "1.5.0",
            "box_style": "",
            "layout": "IPY_MODEL_e3e09c99c60348a18cc0ce841f84d19c",
            "_model_module": "@jupyter-widgets/controls",
            "children": [
              "IPY_MODEL_f4e86efd97cb49a3916359e8ff77c95f",
              "IPY_MODEL_bda7c65f0eac43728e2bebffccf092ae",
              "IPY_MODEL_eb13846103af41868240364571feb4d1"
            ]
          }
        },
        "e3e09c99c60348a18cc0ce841f84d19c": {
          "model_module": "@jupyter-widgets/base",
          "model_name": "LayoutModel",
          "model_module_version": "1.2.0",
          "state": {
            "_view_name": "LayoutView",
            "grid_template_rows": null,
            "right": null,
            "justify_content": null,
            "_view_module": "@jupyter-widgets/base",
            "overflow": null,
            "_model_module_version": "1.2.0",
            "_view_count": null,
            "flex_flow": null,
            "width": null,
            "min_width": null,
            "border": null,
            "align_items": null,
            "bottom": null,
            "_model_module": "@jupyter-widgets/base",
            "top": null,
            "grid_column": null,
            "overflow_y": null,
            "overflow_x": null,
            "grid_auto_flow": null,
            "grid_area": null,
            "grid_template_columns": null,
            "flex": null,
            "_model_name": "LayoutModel",
            "justify_items": null,
            "grid_row": null,
            "max_height": null,
            "align_content": null,
            "visibility": null,
            "align_self": null,
            "height": null,
            "min_height": null,
            "padding": null,
            "grid_auto_rows": null,
            "grid_gap": null,
            "max_width": null,
            "order": null,
            "_view_module_version": "1.2.0",
            "grid_template_areas": null,
            "object_position": null,
            "object_fit": null,
            "grid_auto_columns": null,
            "margin": null,
            "display": null,
            "left": null
          }
        },
        "f4e86efd97cb49a3916359e8ff77c95f": {
          "model_module": "@jupyter-widgets/controls",
          "model_name": "HTMLModel",
          "model_module_version": "1.5.0",
          "state": {
            "_view_name": "HTMLView",
            "style": "IPY_MODEL_d13de1d22a75474ca4f866f6ab533dae",
            "_dom_classes": [],
            "description": "",
            "_model_name": "HTMLModel",
            "placeholder": "​",
            "_view_module": "@jupyter-widgets/controls",
            "_model_module_version": "1.5.0",
            "value": "",
            "_view_count": null,
            "_view_module_version": "1.5.0",
            "description_tooltip": null,
            "_model_module": "@jupyter-widgets/controls",
            "layout": "IPY_MODEL_36b73b61920549ab9244a0aab63c97f5"
          }
        },
        "bda7c65f0eac43728e2bebffccf092ae": {
          "model_module": "@jupyter-widgets/controls",
          "model_name": "FloatProgressModel",
          "model_module_version": "1.5.0",
          "state": {
            "_view_name": "ProgressView",
            "style": "IPY_MODEL_cafb43e45b4c44309ff75315eb970166",
            "_dom_classes": [],
            "description": "",
            "_model_name": "FloatProgressModel",
            "bar_style": "success",
            "max": 1648877,
            "_view_module": "@jupyter-widgets/controls",
            "_model_module_version": "1.5.0",
            "value": 1648877,
            "_view_count": null,
            "_view_module_version": "1.5.0",
            "orientation": "horizontal",
            "min": 0,
            "description_tooltip": null,
            "_model_module": "@jupyter-widgets/controls",
            "layout": "IPY_MODEL_36802d78b1de47598c58eeef751fb75b"
          }
        },
        "eb13846103af41868240364571feb4d1": {
          "model_module": "@jupyter-widgets/controls",
          "model_name": "HTMLModel",
          "model_module_version": "1.5.0",
          "state": {
            "_view_name": "HTMLView",
            "style": "IPY_MODEL_1bb4e09e73544288a7dff3ed3bcf1582",
            "_dom_classes": [],
            "description": "",
            "_model_name": "HTMLModel",
            "placeholder": "​",
            "_view_module": "@jupyter-widgets/controls",
            "_model_module_version": "1.5.0",
            "value": " 1649664/? [00:00&lt;00:00, 3565186.88it/s]",
            "_view_count": null,
            "_view_module_version": "1.5.0",
            "description_tooltip": null,
            "_model_module": "@jupyter-widgets/controls",
            "layout": "IPY_MODEL_5e099477331d40228fee63f856626bcb"
          }
        },
        "d13de1d22a75474ca4f866f6ab533dae": {
          "model_module": "@jupyter-widgets/controls",
          "model_name": "DescriptionStyleModel",
          "model_module_version": "1.5.0",
          "state": {
            "_view_name": "StyleView",
            "_model_name": "DescriptionStyleModel",
            "description_width": "",
            "_view_module": "@jupyter-widgets/base",
            "_model_module_version": "1.5.0",
            "_view_count": null,
            "_view_module_version": "1.2.0",
            "_model_module": "@jupyter-widgets/controls"
          }
        },
        "36b73b61920549ab9244a0aab63c97f5": {
          "model_module": "@jupyter-widgets/base",
          "model_name": "LayoutModel",
          "model_module_version": "1.2.0",
          "state": {
            "_view_name": "LayoutView",
            "grid_template_rows": null,
            "right": null,
            "justify_content": null,
            "_view_module": "@jupyter-widgets/base",
            "overflow": null,
            "_model_module_version": "1.2.0",
            "_view_count": null,
            "flex_flow": null,
            "width": null,
            "min_width": null,
            "border": null,
            "align_items": null,
            "bottom": null,
            "_model_module": "@jupyter-widgets/base",
            "top": null,
            "grid_column": null,
            "overflow_y": null,
            "overflow_x": null,
            "grid_auto_flow": null,
            "grid_area": null,
            "grid_template_columns": null,
            "flex": null,
            "_model_name": "LayoutModel",
            "justify_items": null,
            "grid_row": null,
            "max_height": null,
            "align_content": null,
            "visibility": null,
            "align_self": null,
            "height": null,
            "min_height": null,
            "padding": null,
            "grid_auto_rows": null,
            "grid_gap": null,
            "max_width": null,
            "order": null,
            "_view_module_version": "1.2.0",
            "grid_template_areas": null,
            "object_position": null,
            "object_fit": null,
            "grid_auto_columns": null,
            "margin": null,
            "display": null,
            "left": null
          }
        },
        "cafb43e45b4c44309ff75315eb970166": {
          "model_module": "@jupyter-widgets/controls",
          "model_name": "ProgressStyleModel",
          "model_module_version": "1.5.0",
          "state": {
            "_view_name": "StyleView",
            "_model_name": "ProgressStyleModel",
            "description_width": "",
            "_view_module": "@jupyter-widgets/base",
            "_model_module_version": "1.5.0",
            "_view_count": null,
            "_view_module_version": "1.2.0",
            "bar_color": null,
            "_model_module": "@jupyter-widgets/controls"
          }
        },
        "36802d78b1de47598c58eeef751fb75b": {
          "model_module": "@jupyter-widgets/base",
          "model_name": "LayoutModel",
          "model_module_version": "1.2.0",
          "state": {
            "_view_name": "LayoutView",
            "grid_template_rows": null,
            "right": null,
            "justify_content": null,
            "_view_module": "@jupyter-widgets/base",
            "overflow": null,
            "_model_module_version": "1.2.0",
            "_view_count": null,
            "flex_flow": null,
            "width": null,
            "min_width": null,
            "border": null,
            "align_items": null,
            "bottom": null,
            "_model_module": "@jupyter-widgets/base",
            "top": null,
            "grid_column": null,
            "overflow_y": null,
            "overflow_x": null,
            "grid_auto_flow": null,
            "grid_area": null,
            "grid_template_columns": null,
            "flex": null,
            "_model_name": "LayoutModel",
            "justify_items": null,
            "grid_row": null,
            "max_height": null,
            "align_content": null,
            "visibility": null,
            "align_self": null,
            "height": null,
            "min_height": null,
            "padding": null,
            "grid_auto_rows": null,
            "grid_gap": null,
            "max_width": null,
            "order": null,
            "_view_module_version": "1.2.0",
            "grid_template_areas": null,
            "object_position": null,
            "object_fit": null,
            "grid_auto_columns": null,
            "margin": null,
            "display": null,
            "left": null
          }
        },
        "1bb4e09e73544288a7dff3ed3bcf1582": {
          "model_module": "@jupyter-widgets/controls",
          "model_name": "DescriptionStyleModel",
          "model_module_version": "1.5.0",
          "state": {
            "_view_name": "StyleView",
            "_model_name": "DescriptionStyleModel",
            "description_width": "",
            "_view_module": "@jupyter-widgets/base",
            "_model_module_version": "1.5.0",
            "_view_count": null,
            "_view_module_version": "1.2.0",
            "_model_module": "@jupyter-widgets/controls"
          }
        },
        "5e099477331d40228fee63f856626bcb": {
          "model_module": "@jupyter-widgets/base",
          "model_name": "LayoutModel",
          "model_module_version": "1.2.0",
          "state": {
            "_view_name": "LayoutView",
            "grid_template_rows": null,
            "right": null,
            "justify_content": null,
            "_view_module": "@jupyter-widgets/base",
            "overflow": null,
            "_model_module_version": "1.2.0",
            "_view_count": null,
            "flex_flow": null,
            "width": null,
            "min_width": null,
            "border": null,
            "align_items": null,
            "bottom": null,
            "_model_module": "@jupyter-widgets/base",
            "top": null,
            "grid_column": null,
            "overflow_y": null,
            "overflow_x": null,
            "grid_auto_flow": null,
            "grid_area": null,
            "grid_template_columns": null,
            "flex": null,
            "_model_name": "LayoutModel",
            "justify_items": null,
            "grid_row": null,
            "max_height": null,
            "align_content": null,
            "visibility": null,
            "align_self": null,
            "height": null,
            "min_height": null,
            "padding": null,
            "grid_auto_rows": null,
            "grid_gap": null,
            "max_width": null,
            "order": null,
            "_view_module_version": "1.2.0",
            "grid_template_areas": null,
            "object_position": null,
            "object_fit": null,
            "grid_auto_columns": null,
            "margin": null,
            "display": null,
            "left": null
          }
        },
        "bf52e68f56644d2cbf76f6ac093a2025": {
          "model_module": "@jupyter-widgets/controls",
          "model_name": "HBoxModel",
          "model_module_version": "1.5.0",
          "state": {
            "_view_name": "HBoxView",
            "_dom_classes": [],
            "_model_name": "HBoxModel",
            "_view_module": "@jupyter-widgets/controls",
            "_model_module_version": "1.5.0",
            "_view_count": null,
            "_view_module_version": "1.5.0",
            "box_style": "",
            "layout": "IPY_MODEL_1e936f43964e4e9e8c266bea06aa5da0",
            "_model_module": "@jupyter-widgets/controls",
            "children": [
              "IPY_MODEL_829713f90a6e4547979df94a0c60c4fb",
              "IPY_MODEL_8993470027b24109a972e1b6a1f914e2",
              "IPY_MODEL_077bd3f79fbd4205a5724dd6d8baf691"
            ]
          }
        },
        "1e936f43964e4e9e8c266bea06aa5da0": {
          "model_module": "@jupyter-widgets/base",
          "model_name": "LayoutModel",
          "model_module_version": "1.2.0",
          "state": {
            "_view_name": "LayoutView",
            "grid_template_rows": null,
            "right": null,
            "justify_content": null,
            "_view_module": "@jupyter-widgets/base",
            "overflow": null,
            "_model_module_version": "1.2.0",
            "_view_count": null,
            "flex_flow": null,
            "width": null,
            "min_width": null,
            "border": null,
            "align_items": null,
            "bottom": null,
            "_model_module": "@jupyter-widgets/base",
            "top": null,
            "grid_column": null,
            "overflow_y": null,
            "overflow_x": null,
            "grid_auto_flow": null,
            "grid_area": null,
            "grid_template_columns": null,
            "flex": null,
            "_model_name": "LayoutModel",
            "justify_items": null,
            "grid_row": null,
            "max_height": null,
            "align_content": null,
            "visibility": null,
            "align_self": null,
            "height": null,
            "min_height": null,
            "padding": null,
            "grid_auto_rows": null,
            "grid_gap": null,
            "max_width": null,
            "order": null,
            "_view_module_version": "1.2.0",
            "grid_template_areas": null,
            "object_position": null,
            "object_fit": null,
            "grid_auto_columns": null,
            "margin": null,
            "display": null,
            "left": null
          }
        },
        "829713f90a6e4547979df94a0c60c4fb": {
          "model_module": "@jupyter-widgets/controls",
          "model_name": "HTMLModel",
          "model_module_version": "1.5.0",
          "state": {
            "_view_name": "HTMLView",
            "style": "IPY_MODEL_fa25a04f21ce473d8b9861ba08e2effd",
            "_dom_classes": [],
            "description": "",
            "_model_name": "HTMLModel",
            "placeholder": "​",
            "_view_module": "@jupyter-widgets/controls",
            "_model_module_version": "1.5.0",
            "value": "",
            "_view_count": null,
            "_view_module_version": "1.5.0",
            "description_tooltip": null,
            "_model_module": "@jupyter-widgets/controls",
            "layout": "IPY_MODEL_20f2524698f8401c866628609a7f3b87"
          }
        },
        "8993470027b24109a972e1b6a1f914e2": {
          "model_module": "@jupyter-widgets/controls",
          "model_name": "FloatProgressModel",
          "model_module_version": "1.5.0",
          "state": {
            "_view_name": "ProgressView",
            "style": "IPY_MODEL_18e81e1eafeb4c6baf98de268e54301f",
            "_dom_classes": [],
            "description": "",
            "_model_name": "FloatProgressModel",
            "bar_style": "success",
            "max": 4542,
            "_view_module": "@jupyter-widgets/controls",
            "_model_module_version": "1.5.0",
            "value": 4542,
            "_view_count": null,
            "_view_module_version": "1.5.0",
            "orientation": "horizontal",
            "min": 0,
            "description_tooltip": null,
            "_model_module": "@jupyter-widgets/controls",
            "layout": "IPY_MODEL_f8d930a3a0e3409fb45a3fe2bc774ada"
          }
        },
        "077bd3f79fbd4205a5724dd6d8baf691": {
          "model_module": "@jupyter-widgets/controls",
          "model_name": "HTMLModel",
          "model_module_version": "1.5.0",
          "state": {
            "_view_name": "HTMLView",
            "style": "IPY_MODEL_29389be267df41a08fd5d8022aacb133",
            "_dom_classes": [],
            "description": "",
            "_model_name": "HTMLModel",
            "placeholder": "​",
            "_view_module": "@jupyter-widgets/controls",
            "_model_module_version": "1.5.0",
            "value": " 5120/? [00:00&lt;00:00, 145090.44it/s]",
            "_view_count": null,
            "_view_module_version": "1.5.0",
            "description_tooltip": null,
            "_model_module": "@jupyter-widgets/controls",
            "layout": "IPY_MODEL_f364c7f3ed404f03900607c36066dd4e"
          }
        },
        "fa25a04f21ce473d8b9861ba08e2effd": {
          "model_module": "@jupyter-widgets/controls",
          "model_name": "DescriptionStyleModel",
          "model_module_version": "1.5.0",
          "state": {
            "_view_name": "StyleView",
            "_model_name": "DescriptionStyleModel",
            "description_width": "",
            "_view_module": "@jupyter-widgets/base",
            "_model_module_version": "1.5.0",
            "_view_count": null,
            "_view_module_version": "1.2.0",
            "_model_module": "@jupyter-widgets/controls"
          }
        },
        "20f2524698f8401c866628609a7f3b87": {
          "model_module": "@jupyter-widgets/base",
          "model_name": "LayoutModel",
          "model_module_version": "1.2.0",
          "state": {
            "_view_name": "LayoutView",
            "grid_template_rows": null,
            "right": null,
            "justify_content": null,
            "_view_module": "@jupyter-widgets/base",
            "overflow": null,
            "_model_module_version": "1.2.0",
            "_view_count": null,
            "flex_flow": null,
            "width": null,
            "min_width": null,
            "border": null,
            "align_items": null,
            "bottom": null,
            "_model_module": "@jupyter-widgets/base",
            "top": null,
            "grid_column": null,
            "overflow_y": null,
            "overflow_x": null,
            "grid_auto_flow": null,
            "grid_area": null,
            "grid_template_columns": null,
            "flex": null,
            "_model_name": "LayoutModel",
            "justify_items": null,
            "grid_row": null,
            "max_height": null,
            "align_content": null,
            "visibility": null,
            "align_self": null,
            "height": null,
            "min_height": null,
            "padding": null,
            "grid_auto_rows": null,
            "grid_gap": null,
            "max_width": null,
            "order": null,
            "_view_module_version": "1.2.0",
            "grid_template_areas": null,
            "object_position": null,
            "object_fit": null,
            "grid_auto_columns": null,
            "margin": null,
            "display": null,
            "left": null
          }
        },
        "18e81e1eafeb4c6baf98de268e54301f": {
          "model_module": "@jupyter-widgets/controls",
          "model_name": "ProgressStyleModel",
          "model_module_version": "1.5.0",
          "state": {
            "_view_name": "StyleView",
            "_model_name": "ProgressStyleModel",
            "description_width": "",
            "_view_module": "@jupyter-widgets/base",
            "_model_module_version": "1.5.0",
            "_view_count": null,
            "_view_module_version": "1.2.0",
            "bar_color": null,
            "_model_module": "@jupyter-widgets/controls"
          }
        },
        "f8d930a3a0e3409fb45a3fe2bc774ada": {
          "model_module": "@jupyter-widgets/base",
          "model_name": "LayoutModel",
          "model_module_version": "1.2.0",
          "state": {
            "_view_name": "LayoutView",
            "grid_template_rows": null,
            "right": null,
            "justify_content": null,
            "_view_module": "@jupyter-widgets/base",
            "overflow": null,
            "_model_module_version": "1.2.0",
            "_view_count": null,
            "flex_flow": null,
            "width": null,
            "min_width": null,
            "border": null,
            "align_items": null,
            "bottom": null,
            "_model_module": "@jupyter-widgets/base",
            "top": null,
            "grid_column": null,
            "overflow_y": null,
            "overflow_x": null,
            "grid_auto_flow": null,
            "grid_area": null,
            "grid_template_columns": null,
            "flex": null,
            "_model_name": "LayoutModel",
            "justify_items": null,
            "grid_row": null,
            "max_height": null,
            "align_content": null,
            "visibility": null,
            "align_self": null,
            "height": null,
            "min_height": null,
            "padding": null,
            "grid_auto_rows": null,
            "grid_gap": null,
            "max_width": null,
            "order": null,
            "_view_module_version": "1.2.0",
            "grid_template_areas": null,
            "object_position": null,
            "object_fit": null,
            "grid_auto_columns": null,
            "margin": null,
            "display": null,
            "left": null
          }
        },
        "29389be267df41a08fd5d8022aacb133": {
          "model_module": "@jupyter-widgets/controls",
          "model_name": "DescriptionStyleModel",
          "model_module_version": "1.5.0",
          "state": {
            "_view_name": "StyleView",
            "_model_name": "DescriptionStyleModel",
            "description_width": "",
            "_view_module": "@jupyter-widgets/base",
            "_model_module_version": "1.5.0",
            "_view_count": null,
            "_view_module_version": "1.2.0",
            "_model_module": "@jupyter-widgets/controls"
          }
        },
        "f364c7f3ed404f03900607c36066dd4e": {
          "model_module": "@jupyter-widgets/base",
          "model_name": "LayoutModel",
          "model_module_version": "1.2.0",
          "state": {
            "_view_name": "LayoutView",
            "grid_template_rows": null,
            "right": null,
            "justify_content": null,
            "_view_module": "@jupyter-widgets/base",
            "overflow": null,
            "_model_module_version": "1.2.0",
            "_view_count": null,
            "flex_flow": null,
            "width": null,
            "min_width": null,
            "border": null,
            "align_items": null,
            "bottom": null,
            "_model_module": "@jupyter-widgets/base",
            "top": null,
            "grid_column": null,
            "overflow_y": null,
            "overflow_x": null,
            "grid_auto_flow": null,
            "grid_area": null,
            "grid_template_columns": null,
            "flex": null,
            "_model_name": "LayoutModel",
            "justify_items": null,
            "grid_row": null,
            "max_height": null,
            "align_content": null,
            "visibility": null,
            "align_self": null,
            "height": null,
            "min_height": null,
            "padding": null,
            "grid_auto_rows": null,
            "grid_gap": null,
            "max_width": null,
            "order": null,
            "_view_module_version": "1.2.0",
            "grid_template_areas": null,
            "object_position": null,
            "object_fit": null,
            "grid_auto_columns": null,
            "margin": null,
            "display": null,
            "left": null
          }
        }
      }
    }
  },
  "cells": [
    {
      "cell_type": "markdown",
      "metadata": {
        "id": "view-in-github",
        "colab_type": "text"
      },
      "source": [
        "<a href=\"https://colab.research.google.com/github/nesmachnow/Curso-GANs/blob/main/WGAN_GP.ipynb\" target=\"_parent\"><img src=\"https://colab.research.google.com/assets/colab-badge.svg\" alt=\"Open In Colab\"/></a>"
      ]
    },
    {
      "cell_type": "markdown",
      "metadata": {
        "id": "2V1Z2NcIwNyY"
      },
      "source": [
        "# Implementación de WGAN-GP\n",
        "Referencia: https://arxiv.org/pdf/1704.00028.pdf\n"
      ]
    },
    {
      "cell_type": "code",
      "metadata": {
        "collapsed": true,
        "id": "OTf2M2SYwNyd"
      },
      "source": [
        "# !pip install torch torchvision"
      ],
      "execution_count": 1,
      "outputs": []
    },
    {
      "cell_type": "code",
      "metadata": {
        "collapsed": true,
        "id": "40DQ8nzLwNye"
      },
      "source": [
        "import torch\n",
        "import torchvision\n",
        "import torch.nn as nn\n",
        "import torch.nn.functional as F\n",
        "import torch.autograd as autograd"
      ],
      "execution_count": 2,
      "outputs": []
    },
    {
      "cell_type": "code",
      "metadata": {
        "collapsed": true,
        "id": "hyrIoG8rwNyf"
      },
      "source": [
        "from torch.utils.data import DataLoader\n",
        "from torchvision import datasets\n",
        "from torchvision import transforms\n",
        "from torchvision.utils import save_image"
      ],
      "execution_count": 3,
      "outputs": []
    },
    {
      "cell_type": "code",
      "metadata": {
        "collapsed": true,
        "id": "MY7DGz4rwNyf"
      },
      "source": [
        "import numpy as np\n",
        "import datetime\n",
        "import os, sys"
      ],
      "execution_count": 4,
      "outputs": []
    },
    {
      "cell_type": "code",
      "metadata": {
        "collapsed": true,
        "id": "ovdO49eDwNyg"
      },
      "source": [
        "from matplotlib.pyplot import imshow, imsave\n",
        "%matplotlib inline"
      ],
      "execution_count": 5,
      "outputs": []
    },
    {
      "cell_type": "code",
      "metadata": {
        "id": "O6cOccLfE5eT"
      },
      "source": [
        ""
      ],
      "execution_count": 5,
      "outputs": []
    },
    {
      "cell_type": "code",
      "metadata": {
        "colab": {
          "base_uri": "https://localhost:8080/"
        },
        "id": "vSk0HziMaSTS",
        "outputId": "e1e2aa07-c2ec-4f11-fb72-a6429d7dff99"
      },
      "source": [
        "!nvidia-smi"
      ],
      "execution_count": 6,
      "outputs": [
        {
          "output_type": "stream",
          "name": "stdout",
          "text": [
            "Wed Oct 27 16:02:37 2021       \n",
            "+-----------------------------------------------------------------------------+\n",
            "| NVIDIA-SMI 470.74       Driver Version: 460.32.03    CUDA Version: 11.2     |\n",
            "|-------------------------------+----------------------+----------------------+\n",
            "| GPU  Name        Persistence-M| Bus-Id        Disp.A | Volatile Uncorr. ECC |\n",
            "| Fan  Temp  Perf  Pwr:Usage/Cap|         Memory-Usage | GPU-Util  Compute M. |\n",
            "|                               |                      |               MIG M. |\n",
            "|===============================+======================+======================|\n",
            "|   0  Tesla K80           Off  | 00000000:00:04.0 Off |                    0 |\n",
            "| N/A   71C    P8    33W / 149W |      0MiB / 11441MiB |      0%      Default |\n",
            "|                               |                      |                  N/A |\n",
            "+-------------------------------+----------------------+----------------------+\n",
            "                                                                               \n",
            "+-----------------------------------------------------------------------------+\n",
            "| Processes:                                                                  |\n",
            "|  GPU   GI   CI        PID   Type   Process name                  GPU Memory |\n",
            "|        ID   ID                                                   Usage      |\n",
            "|=============================================================================|\n",
            "|  No running processes found                                                 |\n",
            "+-----------------------------------------------------------------------------+\n"
          ]
        }
      ]
    },
    {
      "cell_type": "code",
      "metadata": {
        "collapsed": true,
        "id": "db9yWCa1wNyg"
      },
      "source": [
        "MODEL_NAME = 'WGAN-GP'\n",
        "DEVICE = torch.device(\"cuda:0\" if torch.cuda.is_available() else \"cpu\")"
      ],
      "execution_count": 7,
      "outputs": []
    },
    {
      "cell_type": "code",
      "metadata": {
        "collapsed": true,
        "id": "um5AIpsDwNyh"
      },
      "source": [
        "def to_onehot(x, num_classes=10):\n",
        "    assert isinstance(x, int) or isinstance(x, (torch.LongTensor, torch.cuda.LongTensor))\n",
        "    if isinstance(x, int):\n",
        "        c = torch.zeros(1, num_classes).long()\n",
        "        c[0][x] = 1\n",
        "    else:\n",
        "        x = x.cpu()\n",
        "        c = torch.LongTensor(x.size(0), num_classes)\n",
        "        c.zero_()\n",
        "        c.scatter_(1, x, 1) # dim, index, src value\n",
        "    return c"
      ],
      "execution_count": 8,
      "outputs": []
    },
    {
      "cell_type": "code",
      "metadata": {
        "collapsed": true,
        "id": "zPEplmFYwNyi"
      },
      "source": [
        "def get_sample_image(G, n_noise=100):\n",
        "    \"\"\"\n",
        "        100 imágenes de ejemplo\n",
        "    \"\"\"\n",
        "    img = np.zeros([280, 280])\n",
        "    for j in range(10):\n",
        "        c = torch.zeros([10, 10]).to(DEVICE)\n",
        "        c[:, j] = 1\n",
        "        z = torch.randn(10, n_noise).to(DEVICE)\n",
        "        y_hat = G(z,c).view(10, 28, 28)\n",
        "        result = y_hat.cpu().data.numpy()\n",
        "        img[j*28:(j+1)*28] = np.concatenate([x for x in result], axis=-1)\n",
        "    return img"
      ],
      "execution_count": 9,
      "outputs": []
    },
    {
      "cell_type": "code",
      "metadata": {
        "collapsed": true,
        "id": "1Nzd1Wh5wNyk"
      },
      "source": [
        "class Critic(nn.Module):\n",
        "    \"\"\"\n",
        "        Crítico: ANN convolucional\n",
        "    \"\"\"\n",
        "    def __init__(self, in_channel=1, input_size=784, condition_size=10, num_classes=1):\n",
        "        super(Critic, self).__init__()\n",
        "        self.transform = nn.Sequential(\n",
        "            nn.Linear(input_size+condition_size, 784),\n",
        "            nn.LeakyReLU(0.2),\n",
        "        )\n",
        "        self.conv = nn.Sequential(\n",
        "            # 28 -> 14\n",
        "            nn.Conv2d(in_channel, 512, 3, stride=2, padding=1, bias=False),\n",
        "#           nn.BatchNorm2d(512),\n",
        "            nn.LeakyReLU(0.2),\n",
        "            # 14 -> 7\n",
        "            nn.Conv2d(512, 256, 3, stride=2, padding=1, bias=False),\n",
        "#           nn.BatchNorm2d(256),\n",
        "            nn.LeakyReLU(0.2),\n",
        "            # 7 -> 4\n",
        "            nn.Conv2d(256, 128, 3, stride=2, padding=1, bias=False),\n",
        "#           nn.BatchNorm2d(128),\n",
        "            nn.LeakyReLU(0.2),\n",
        "            nn.AvgPool2d(4),\n",
        "        )\n",
        "        self.fc = nn.Sequential(\n",
        "            # reshape input, 128 -> 1\n",
        "            nn.Linear(128, 1),\n",
        "        )\n",
        "    \n",
        "    def forward(self, x, c=None):\n",
        "        # x: (N, 1, 28, 28), c: (N, 10)\n",
        "        x, c = x.view(x.size(0), -1), c.float() # may not need\n",
        "        v = torch.cat((x, c), 1) # v: (N, 794)\n",
        "        y_ = self.transform(v) # (N, 784)\n",
        "        y_ = y_.view(y_.shape[0], 1, 28, 28) # (N, 1, 28, 28)\n",
        "        y_ = self.conv(y_)\n",
        "        y_ = y_.view(y_.size(0), -1)\n",
        "        y_ = self.fc(y_)\n",
        "        return y_"
      ],
      "execution_count": 10,
      "outputs": []
    },
    {
      "cell_type": "code",
      "metadata": {
        "collapsed": true,
        "id": "pOAUanpXwNyk"
      },
      "source": [
        "class Generator(nn.Module):\n",
        "    \"\"\"\n",
        "        Generador: ANN convolucional\n",
        "    \"\"\"\n",
        "    def __init__(self, input_size=100, condition_size=10):\n",
        "        super(Generator, self).__init__()\n",
        "        self.fc = nn.Sequential(\n",
        "            nn.Linear(input_size+condition_size, 4*4*512),\n",
        "            nn.ReLU(),\n",
        "        )\n",
        "        self.conv = nn.Sequential(\n",
        "            # input: 4x4, output: 7x7\n",
        "            nn.ConvTranspose2d(512, 256, 3, stride=2, padding=1, bias=False),\n",
        "#           nn.BatchNorm2d(256),\n",
        "            nn.ReLU(),\n",
        "            # input: 7x7, output: 14x14\n",
        "            nn.ConvTranspose2d(256, 128, 4, stride=2, padding=1, bias=False),\n",
        "#           nn.BatchNorm2d(128),\n",
        "            nn.ReLU(),\n",
        "            # input: 14x14, output: 28x28\n",
        "            nn.ConvTranspose2d(128, 1, 4, stride=2, padding=1, bias=False),\n",
        "            nn.Tanh(),\n",
        "        )\n",
        "        \n",
        "    def forward(self, x, c):\n",
        "        # x: (N, 100), c: (N, 10)\n",
        "        x, c = x.view(x.size(0), -1), c.float() # may not need\n",
        "        v = torch.cat((x, c), 1) # v: (N, 110)\n",
        "        y_ = self.fc(v)\n",
        "        y_ = y_.view(y_.size(0), 512, 4, 4)\n",
        "        y_ = self.conv(y_) # (N, 28, 28)\n",
        "        return y_"
      ],
      "execution_count": 11,
      "outputs": []
    },
    {
      "cell_type": "code",
      "metadata": {
        "collapsed": true,
        "id": "omDmYYHuwNyl"
      },
      "source": [
        "C = Critic().to(DEVICE)\n",
        "G = Generator().to(DEVICE)\n",
        "# C.load_state_dict('C_dc.pkl')\n",
        "# G.load_state_dict('G_dc.pkl')"
      ],
      "execution_count": 12,
      "outputs": []
    },
    {
      "cell_type": "code",
      "metadata": {
        "collapsed": true,
        "id": "clZi45RRwNym"
      },
      "source": [
        "transform = transforms.Compose([transforms.ToTensor(),\n",
        "                                transforms.Normalize(mean=[0.5],\n",
        "                                std=[0.5])]\n",
        ")"
      ],
      "execution_count": 13,
      "outputs": []
    },
    {
      "cell_type": "code",
      "metadata": {
        "colab": {
          "base_uri": "https://localhost:8080/",
          "height": 481,
          "referenced_widgets": [
            "f0327cb77e364a52b62cfa8c03d13d99",
            "f76ac0e6e930474d90b8ebd4ae151d1a",
            "e9887127384643888d37933113d71729",
            "9dc60186fbe94907a6512c71a3c7b60a",
            "1d2889708927439d943b56e2cd2853e4",
            "e83558bf10d045048e6d2c3cc1e1dfdc",
            "d4a880b211274099a3cc5540a11de574",
            "666a7cd01fd1483a9f7b1032cc409012",
            "e0638bed812a4ed6a36f4269985a01f1",
            "a7c6f4fba8494a09a0483238b6dd7718",
            "5571f734815b4cecbc0073bb3fa83a06",
            "981ab184173342bb8312fc78808caa7b",
            "827b9c9b0a41456db6b9d110ddec81f6",
            "9650ff5d5da64be2acb6696095810be2",
            "72de3102b72842e485436a0937850fab",
            "2507ba2df5fa4286b69e0915ea9e5344",
            "79095f5b92c945feb58317412a7d1caf",
            "206cc087dc88451d8c15714132ccbec2",
            "c898aeaacc334701a3d9ce1211e8d0a4",
            "9428a2358f46471587e88dd388f1346e",
            "fdabef0b0e454dc8881f590cd47c86d1",
            "b19a5ef7e2994d159c3a904c1f615d2e",
            "42cb151a2c1e4c188ed90c4c03bcc0f1",
            "e3e09c99c60348a18cc0ce841f84d19c",
            "f4e86efd97cb49a3916359e8ff77c95f",
            "bda7c65f0eac43728e2bebffccf092ae",
            "eb13846103af41868240364571feb4d1",
            "d13de1d22a75474ca4f866f6ab533dae",
            "36b73b61920549ab9244a0aab63c97f5",
            "cafb43e45b4c44309ff75315eb970166",
            "36802d78b1de47598c58eeef751fb75b",
            "1bb4e09e73544288a7dff3ed3bcf1582",
            "5e099477331d40228fee63f856626bcb",
            "bf52e68f56644d2cbf76f6ac093a2025",
            "1e936f43964e4e9e8c266bea06aa5da0",
            "829713f90a6e4547979df94a0c60c4fb",
            "8993470027b24109a972e1b6a1f914e2",
            "077bd3f79fbd4205a5724dd6d8baf691",
            "fa25a04f21ce473d8b9861ba08e2effd",
            "20f2524698f8401c866628609a7f3b87",
            "18e81e1eafeb4c6baf98de268e54301f",
            "f8d930a3a0e3409fb45a3fe2bc774ada",
            "29389be267df41a08fd5d8022aacb133",
            "f364c7f3ed404f03900607c36066dd4e"
          ]
        },
        "id": "niMhLJ-VwNyn",
        "outputId": "3633e48c-f0dd-4964-b384-02b5b0a35bb6"
      },
      "source": [
        "mnist = datasets.MNIST(root='../data/', train=True, transform=transform, download=True)"
      ],
      "execution_count": 14,
      "outputs": [
        {
          "output_type": "stream",
          "name": "stdout",
          "text": [
            "Downloading http://yann.lecun.com/exdb/mnist/train-images-idx3-ubyte.gz\n",
            "Downloading http://yann.lecun.com/exdb/mnist/train-images-idx3-ubyte.gz to ../data/MNIST/raw/train-images-idx3-ubyte.gz\n"
          ]
        },
        {
          "output_type": "display_data",
          "data": {
            "application/vnd.jupyter.widget-view+json": {
              "model_id": "f0327cb77e364a52b62cfa8c03d13d99",
              "version_minor": 0,
              "version_major": 2
            },
            "text/plain": [
              "  0%|          | 0/9912422 [00:00<?, ?it/s]"
            ]
          },
          "metadata": {}
        },
        {
          "output_type": "stream",
          "name": "stdout",
          "text": [
            "Extracting ../data/MNIST/raw/train-images-idx3-ubyte.gz to ../data/MNIST/raw\n",
            "\n",
            "Downloading http://yann.lecun.com/exdb/mnist/train-labels-idx1-ubyte.gz\n",
            "Downloading http://yann.lecun.com/exdb/mnist/train-labels-idx1-ubyte.gz to ../data/MNIST/raw/train-labels-idx1-ubyte.gz\n"
          ]
        },
        {
          "output_type": "display_data",
          "data": {
            "application/vnd.jupyter.widget-view+json": {
              "model_id": "981ab184173342bb8312fc78808caa7b",
              "version_minor": 0,
              "version_major": 2
            },
            "text/plain": [
              "  0%|          | 0/28881 [00:00<?, ?it/s]"
            ]
          },
          "metadata": {}
        },
        {
          "output_type": "stream",
          "name": "stdout",
          "text": [
            "Extracting ../data/MNIST/raw/train-labels-idx1-ubyte.gz to ../data/MNIST/raw\n",
            "\n",
            "Downloading http://yann.lecun.com/exdb/mnist/t10k-images-idx3-ubyte.gz\n",
            "Downloading http://yann.lecun.com/exdb/mnist/t10k-images-idx3-ubyte.gz to ../data/MNIST/raw/t10k-images-idx3-ubyte.gz\n"
          ]
        },
        {
          "output_type": "display_data",
          "data": {
            "application/vnd.jupyter.widget-view+json": {
              "model_id": "42cb151a2c1e4c188ed90c4c03bcc0f1",
              "version_minor": 0,
              "version_major": 2
            },
            "text/plain": [
              "  0%|          | 0/1648877 [00:00<?, ?it/s]"
            ]
          },
          "metadata": {}
        },
        {
          "output_type": "stream",
          "name": "stdout",
          "text": [
            "Extracting ../data/MNIST/raw/t10k-images-idx3-ubyte.gz to ../data/MNIST/raw\n",
            "\n",
            "Downloading http://yann.lecun.com/exdb/mnist/t10k-labels-idx1-ubyte.gz\n",
            "Downloading http://yann.lecun.com/exdb/mnist/t10k-labels-idx1-ubyte.gz to ../data/MNIST/raw/t10k-labels-idx1-ubyte.gz\n"
          ]
        },
        {
          "output_type": "display_data",
          "data": {
            "application/vnd.jupyter.widget-view+json": {
              "model_id": "bf52e68f56644d2cbf76f6ac093a2025",
              "version_minor": 0,
              "version_major": 2
            },
            "text/plain": [
              "  0%|          | 0/4542 [00:00<?, ?it/s]"
            ]
          },
          "metadata": {}
        },
        {
          "output_type": "stream",
          "name": "stdout",
          "text": [
            "Extracting ../data/MNIST/raw/t10k-labels-idx1-ubyte.gz to ../data/MNIST/raw\n",
            "\n"
          ]
        },
        {
          "output_type": "stream",
          "name": "stderr",
          "text": [
            "/usr/local/lib/python3.7/dist-packages/torchvision/datasets/mnist.py:498: UserWarning: The given NumPy array is not writeable, and PyTorch does not support non-writeable tensors. This means you can write to the underlying (supposedly non-writeable) NumPy array using the tensor. You may want to copy the array to protect its data or make it writeable before converting it to a tensor. This type of warning will be suppressed for the rest of this program. (Triggered internally at  /pytorch/torch/csrc/utils/tensor_numpy.cpp:180.)\n",
            "  return torch.from_numpy(parsed.astype(m[2], copy=False)).view(*s)\n"
          ]
        }
      ]
    },
    {
      "cell_type": "code",
      "metadata": {
        "collapsed": true,
        "id": "bk6TNKMNwNyn"
      },
      "source": [
        "batch_size = 64"
      ],
      "execution_count": 15,
      "outputs": []
    },
    {
      "cell_type": "code",
      "metadata": {
        "collapsed": true,
        "id": "ChigFYN-wNyo"
      },
      "source": [
        "data_loader = DataLoader(dataset=mnist, batch_size=batch_size, shuffle=True, drop_last=True, pin_memory=True)"
      ],
      "execution_count": 16,
      "outputs": []
    },
    {
      "cell_type": "code",
      "metadata": {
        "collapsed": true,
        "id": "Z4t189-_wNyo"
      },
      "source": [
        "C_opt = torch.optim.Adam(C.parameters(), lr=0.0001, betas=(0., 0.9))\n",
        "G_opt = torch.optim.Adam(G.parameters(), lr=0.0001, betas=(0., 0.9))"
      ],
      "execution_count": 18,
      "outputs": []
    },
    {
      "cell_type": "code",
      "metadata": {
        "collapsed": true,
        "id": "mbDZjU-zwNyo"
      },
      "source": [
        "max_epoch = 100 # se necesitan más de 20 para entrenar el generador\n",
        "step = 0\n",
        "n_noise = 100\n",
        "p_coeff = 10 # lambda\n",
        "n_critic = 5"
      ],
      "execution_count": 19,
      "outputs": []
    },
    {
      "cell_type": "code",
      "metadata": {
        "collapsed": true,
        "id": "FOGuiuBrwNyo"
      },
      "source": [
        "C_labels = torch.ones([batch_size, 1]).to(DEVICE) # Etiqueta del crítico/discriminador para real\n",
        "C_fakes = torch.zeros([batch_size, 1]).to(DEVICE) # Etiqueta del crítico/discriminador para fake"
      ],
      "execution_count": 20,
      "outputs": []
    },
    {
      "cell_type": "code",
      "metadata": {
        "id": "i_Y7HGtHwNyp"
      },
      "source": [
        "if not os.path.exists('samples'):\n",
        "    os.makedirs('samples')"
      ],
      "execution_count": 21,
      "outputs": []
    },
    {
      "cell_type": "code",
      "metadata": {
        "colab": {
          "base_uri": "https://localhost:8080/"
        },
        "id": "uuBJ9JFSwNyp",
        "scrolled": true,
        "outputId": "3609248c-0424-4c3e-d3bb-8474ba8bd6fb"
      },
      "source": [
        "for epoch in range(max_epoch):\n",
        "    for idx, (images, labels) in enumerate(data_loader):\n",
        "        C.zero_grad()\n",
        "        ## Entrenar el crítico \n",
        "        # Datos reales\n",
        "        x = images.to(DEVICE)\n",
        "        y = labels.view(batch_size, 1)\n",
        "        y = to_onehot(y).to(DEVICE)\n",
        "        \n",
        "        # Muestreo y generación\n",
        "        z = torch.randn(batch_size, n_noise).to(DEVICE)\n",
        "        x_fake = G(z, y)\n",
        "                \n",
        "        # Penalización de gradientes (e.g. gradientes respecto a x_penalty)\n",
        "        eps = torch.rand(batch_size, 1, 1, 1).to(DEVICE) # x shape: (64, 1, 28, 28)\n",
        "        x_penalty = eps*x + (1-eps)*x_fake\n",
        "        x_penalty = x_penalty.view(x_penalty.size(0), -1)\n",
        "        p_outputs = C(x_penalty, y)\n",
        "        # Calcular la suma de gradientes de salidas (outputs) respecto a las entradas (inputs)\n",
        "        xp_grad = autograd.grad(outputs=p_outputs, inputs=x_penalty, grad_outputs=C_labels,\n",
        "                                create_graph=True, retain_graph=True, only_inputs=True)\n",
        "        grad_penalty = p_coeff * torch.mean(torch.pow(torch.norm(xp_grad[0], 2, 1) - 1, 2))\n",
        "        \n",
        "        # Wasserstein loss\n",
        "        x_outputs = C(x, y)\n",
        "        z_outputs = C(x_fake, y)\n",
        "        C_x_loss = torch.mean(x_outputs)\n",
        "        C_z_loss = torch.mean(z_outputs)\n",
        "        C_loss = C_z_loss - C_x_loss + grad_penalty\n",
        "        \n",
        "        C_loss.backward()\n",
        "        C_opt.step()        \n",
        "        if step % n_critic == 0:\n",
        "            C.zero_grad()\n",
        "            G.zero_grad()\n",
        "            # Entrenar el generador\n",
        "            z = torch.randn(batch_size, n_noise).to(DEVICE)\n",
        "            z_outputs = C(G(z, y), y)\n",
        "            G_loss = -torch.mean(z_outputs)\n",
        "\n",
        "            G_loss.backward()\n",
        "            G_opt.step()\n",
        "        \n",
        "        if step % 500 == 0:\n",
        "            print('Epoch: {}/{}, Step: {}, C Loss: {}, G Loss: {}'.format(epoch, max_epoch, step, C_loss.item(), G_loss.item()))\n",
        "        \n",
        "        if step % 1000 == 0:\n",
        "            G.eval()\n",
        "            img = get_sample_image(G, n_noise)\n",
        "            imsave('samples/{}_step{:05d}.jpg'.format(MODEL_NAME, step), img, cmap='gray')\n",
        "            G.train()\n",
        "        step += 1"
      ],
      "execution_count": 25,
      "outputs": [
        {
          "output_type": "stream",
          "name": "stdout",
          "text": [
            "Epoch: 0/100, Step: 0, D Loss: 9.637537956237793, G Loss: -0.09775851666927338\n",
            "Epoch: 0/100, Step: 500, D Loss: -18.466516494750977, G Loss: -1.31673002243042\n",
            "Epoch: 1/100, Step: 1000, D Loss: -15.652986526489258, G Loss: -3.8550539016723633\n",
            "Epoch: 1/100, Step: 1500, D Loss: -7.102338790893555, G Loss: -8.373885154724121\n",
            "Epoch: 2/100, Step: 2000, D Loss: -4.048879146575928, G Loss: -9.938067436218262\n",
            "Epoch: 2/100, Step: 2500, D Loss: -3.5205469131469727, G Loss: -5.086732387542725\n",
            "Epoch: 3/100, Step: 3000, D Loss: -4.644060134887695, G Loss: -0.3455062508583069\n",
            "Epoch: 3/100, Step: 3500, D Loss: -5.767862796783447, G Loss: 0.3318641185760498\n",
            "Epoch: 4/100, Step: 4000, D Loss: -6.053740501403809, G Loss: -3.7968497276306152\n",
            "Epoch: 4/100, Step: 4500, D Loss: -6.128735542297363, G Loss: -3.55314564704895\n",
            "Epoch: 5/100, Step: 5000, D Loss: -6.125691890716553, G Loss: -2.442795991897583\n",
            "Epoch: 5/100, Step: 5500, D Loss: -4.732655048370361, G Loss: -3.8111705780029297\n",
            "Epoch: 6/100, Step: 6000, D Loss: -4.864758491516113, G Loss: -1.9200594425201416\n",
            "Epoch: 6/100, Step: 6500, D Loss: -4.021839618682861, G Loss: -3.750899314880371\n",
            "Epoch: 7/100, Step: 7000, D Loss: -4.3149871826171875, G Loss: -8.30633544921875\n",
            "Epoch: 8/100, Step: 7500, D Loss: -3.4615437984466553, G Loss: -4.381497383117676\n",
            "Epoch: 8/100, Step: 8000, D Loss: -4.224243640899658, G Loss: -1.3130780458450317\n",
            "Epoch: 9/100, Step: 8500, D Loss: -3.5107147693634033, G Loss: -3.9534974098205566\n",
            "Epoch: 9/100, Step: 9000, D Loss: -3.5824198722839355, G Loss: -5.991950035095215\n",
            "Epoch: 10/100, Step: 9500, D Loss: -3.8166773319244385, G Loss: -8.44405746459961\n",
            "Epoch: 10/100, Step: 10000, D Loss: -3.775738477706909, G Loss: -0.8540686964988708\n",
            "Epoch: 11/100, Step: 10500, D Loss: -3.796332597732544, G Loss: -6.069046974182129\n",
            "Epoch: 11/100, Step: 11000, D Loss: -4.046351909637451, G Loss: -9.107315063476562\n",
            "Epoch: 12/100, Step: 11500, D Loss: -3.720945358276367, G Loss: -4.190896987915039\n",
            "Epoch: 12/100, Step: 12000, D Loss: -3.099961519241333, G Loss: -5.895700454711914\n",
            "Epoch: 13/100, Step: 12500, D Loss: -3.822484254837036, G Loss: -9.527488708496094\n",
            "Epoch: 13/100, Step: 13000, D Loss: -3.0814943313598633, G Loss: -3.7134902477264404\n",
            "Epoch: 14/100, Step: 13500, D Loss: -2.1699507236480713, G Loss: -7.6201677322387695\n",
            "Epoch: 14/100, Step: 14000, D Loss: -3.192584753036499, G Loss: -1.9196799993515015\n",
            "Epoch: 15/100, Step: 14500, D Loss: -1.640957236289978, G Loss: -7.860073566436768\n",
            "Epoch: 16/100, Step: 15000, D Loss: -2.614504337310791, G Loss: -5.272189140319824\n",
            "Epoch: 16/100, Step: 15500, D Loss: -2.33530592918396, G Loss: -3.5796918869018555\n",
            "Epoch: 17/100, Step: 16000, D Loss: -3.149068832397461, G Loss: -1.5256562232971191\n",
            "Epoch: 17/100, Step: 16500, D Loss: -2.404358386993408, G Loss: -2.25642466545105\n",
            "Epoch: 18/100, Step: 17000, D Loss: -2.7545852661132812, G Loss: -6.240721702575684\n",
            "Epoch: 18/100, Step: 17500, D Loss: -2.3727314472198486, G Loss: -9.2066068649292\n",
            "Epoch: 19/100, Step: 18000, D Loss: -1.955629587173462, G Loss: -6.441833972930908\n",
            "Epoch: 19/100, Step: 18500, D Loss: -2.5119271278381348, G Loss: -5.215876579284668\n",
            "Epoch: 20/100, Step: 19000, D Loss: -2.285816192626953, G Loss: -9.19779109954834\n",
            "Epoch: 20/100, Step: 19500, D Loss: -1.8681951761245728, G Loss: -3.266658067703247\n",
            "Epoch: 21/100, Step: 20000, D Loss: -1.9557121992111206, G Loss: -1.8610565662384033\n",
            "Epoch: 21/100, Step: 20500, D Loss: -2.090230703353882, G Loss: -4.354771614074707\n",
            "Epoch: 22/100, Step: 21000, D Loss: -1.653324842453003, G Loss: -6.411324501037598\n",
            "Epoch: 22/100, Step: 21500, D Loss: -1.7013670206069946, G Loss: -5.855193138122559\n",
            "Epoch: 23/100, Step: 22000, D Loss: -1.8226958513259888, G Loss: -7.043185234069824\n",
            "Epoch: 24/100, Step: 22500, D Loss: -1.5988950729370117, G Loss: -7.001631259918213\n",
            "Epoch: 24/100, Step: 23000, D Loss: -1.7218213081359863, G Loss: -4.108551979064941\n",
            "Epoch: 25/100, Step: 23500, D Loss: -1.6398284435272217, G Loss: -3.4301633834838867\n",
            "Epoch: 25/100, Step: 24000, D Loss: -1.6081154346466064, G Loss: -3.4979214668273926\n",
            "Epoch: 26/100, Step: 24500, D Loss: -1.6570415496826172, G Loss: -4.691292762756348\n",
            "Epoch: 26/100, Step: 25000, D Loss: -1.232425332069397, G Loss: -1.6018595695495605\n",
            "Epoch: 27/100, Step: 25500, D Loss: -1.6340408325195312, G Loss: -2.447065591812134\n",
            "Epoch: 27/100, Step: 26000, D Loss: -0.9500331282615662, G Loss: -4.739616394042969\n",
            "Epoch: 28/100, Step: 26500, D Loss: -1.4130022525787354, G Loss: -5.524957656860352\n",
            "Epoch: 28/100, Step: 27000, D Loss: -1.3831547498703003, G Loss: -4.640315055847168\n",
            "Epoch: 29/100, Step: 27500, D Loss: -1.4427169561386108, G Loss: -5.114740371704102\n",
            "Epoch: 29/100, Step: 28000, D Loss: -1.3481552600860596, G Loss: -5.438320636749268\n",
            "Epoch: 30/100, Step: 28500, D Loss: -1.0650826692581177, G Loss: -2.928189754486084\n",
            "Epoch: 30/100, Step: 29000, D Loss: -1.6331212520599365, G Loss: -4.3744306564331055\n",
            "Epoch: 31/100, Step: 29500, D Loss: -1.2446980476379395, G Loss: -5.238757610321045\n",
            "Epoch: 32/100, Step: 30000, D Loss: -1.421259880065918, G Loss: -4.082187175750732\n",
            "Epoch: 32/100, Step: 30500, D Loss: -1.4459524154663086, G Loss: -5.884495735168457\n",
            "Epoch: 33/100, Step: 31000, D Loss: -1.3686244487762451, G Loss: -5.987674236297607\n",
            "Epoch: 33/100, Step: 31500, D Loss: -1.0409258604049683, G Loss: -4.627707481384277\n",
            "Epoch: 34/100, Step: 32000, D Loss: -0.8997579216957092, G Loss: -2.6375367641448975\n",
            "Epoch: 34/100, Step: 32500, D Loss: -0.8974444270133972, G Loss: -5.105842590332031\n",
            "Epoch: 35/100, Step: 33000, D Loss: -0.9948650002479553, G Loss: -2.465758800506592\n",
            "Epoch: 35/100, Step: 33500, D Loss: -0.900992751121521, G Loss: -4.296309471130371\n",
            "Epoch: 36/100, Step: 34000, D Loss: -0.8305454254150391, G Loss: -1.9704490900039673\n",
            "Epoch: 36/100, Step: 34500, D Loss: -0.5133394598960876, G Loss: -2.9383654594421387\n",
            "Epoch: 37/100, Step: 35000, D Loss: -0.645766019821167, G Loss: -2.62217378616333\n",
            "Epoch: 37/100, Step: 35500, D Loss: -1.0408815145492554, G Loss: -4.885380268096924\n",
            "Epoch: 38/100, Step: 36000, D Loss: -0.7777119278907776, G Loss: -4.722363471984863\n",
            "Epoch: 38/100, Step: 36500, D Loss: -0.996787428855896, G Loss: -5.633748531341553\n",
            "Epoch: 39/100, Step: 37000, D Loss: -0.7746065855026245, G Loss: -3.160327196121216\n",
            "Epoch: 40/100, Step: 37500, D Loss: -1.3169206380844116, G Loss: -3.5828685760498047\n",
            "Epoch: 40/100, Step: 38000, D Loss: -0.9601945281028748, G Loss: -2.037233352661133\n",
            "Epoch: 41/100, Step: 38500, D Loss: -1.018123745918274, G Loss: -4.747610092163086\n",
            "Epoch: 41/100, Step: 39000, D Loss: -0.563261091709137, G Loss: -5.056446075439453\n",
            "Epoch: 42/100, Step: 39500, D Loss: -0.8151869773864746, G Loss: -2.1349010467529297\n",
            "Epoch: 42/100, Step: 40000, D Loss: -1.152872085571289, G Loss: -4.074440956115723\n",
            "Epoch: 43/100, Step: 40500, D Loss: -1.0233147144317627, G Loss: -3.400326728820801\n",
            "Epoch: 43/100, Step: 41000, D Loss: -0.8513205051422119, G Loss: -4.334948539733887\n",
            "Epoch: 44/100, Step: 41500, D Loss: -0.8826975226402283, G Loss: -3.23776912689209\n",
            "Epoch: 44/100, Step: 42000, D Loss: -1.1059304475784302, G Loss: -5.740943908691406\n",
            "Epoch: 45/100, Step: 42500, D Loss: -0.8330028653144836, G Loss: -3.904907703399658\n",
            "Epoch: 45/100, Step: 43000, D Loss: -0.3720809817314148, G Loss: -1.5233469009399414\n",
            "Epoch: 46/100, Step: 43500, D Loss: -0.8381351232528687, G Loss: -3.373143196105957\n",
            "Epoch: 46/100, Step: 44000, D Loss: -1.1154178380966187, G Loss: -4.7830400466918945\n",
            "Epoch: 47/100, Step: 44500, D Loss: -1.0545719861984253, G Loss: -2.102532386779785\n",
            "Epoch: 48/100, Step: 45000, D Loss: -0.7744916081428528, G Loss: -3.222665309906006\n",
            "Epoch: 48/100, Step: 45500, D Loss: -0.8602956533432007, G Loss: -2.871264934539795\n",
            "Epoch: 49/100, Step: 46000, D Loss: -1.2160497903823853, G Loss: -4.086925506591797\n",
            "Epoch: 49/100, Step: 46500, D Loss: -0.6909405589103699, G Loss: -3.8865270614624023\n",
            "Epoch: 50/100, Step: 47000, D Loss: -0.8652955293655396, G Loss: -2.7105963230133057\n",
            "Epoch: 50/100, Step: 47500, D Loss: -0.9999768733978271, G Loss: -2.9945271015167236\n",
            "Epoch: 51/100, Step: 48000, D Loss: -0.7064444422721863, G Loss: -1.3110167980194092\n",
            "Epoch: 51/100, Step: 48500, D Loss: -0.9797298908233643, G Loss: -5.153452396392822\n",
            "Epoch: 52/100, Step: 49000, D Loss: -0.5410987734794617, G Loss: -2.6694247722625732\n",
            "Epoch: 52/100, Step: 49500, D Loss: -0.34931081533432007, G Loss: -3.671905755996704\n",
            "Epoch: 53/100, Step: 50000, D Loss: -0.6559039354324341, G Loss: -3.844219923019409\n",
            "Epoch: 53/100, Step: 50500, D Loss: -0.9036825895309448, G Loss: -2.7448155879974365\n",
            "Epoch: 54/100, Step: 51000, D Loss: -0.838629424571991, G Loss: -3.4681448936462402\n",
            "Epoch: 54/100, Step: 51500, D Loss: -0.8247457146644592, G Loss: -3.7309658527374268\n",
            "Epoch: 55/100, Step: 52000, D Loss: -0.9365683197975159, G Loss: -1.9775443077087402\n",
            "Epoch: 56/100, Step: 52500, D Loss: -0.621677041053772, G Loss: -3.034205436706543\n",
            "Epoch: 56/100, Step: 53000, D Loss: -0.9649921655654907, G Loss: -3.5901474952697754\n",
            "Epoch: 57/100, Step: 53500, D Loss: -0.6749427318572998, G Loss: -2.1526241302490234\n",
            "Epoch: 57/100, Step: 54000, D Loss: -0.9428091645240784, G Loss: -0.6397084593772888\n",
            "Epoch: 58/100, Step: 54500, D Loss: -0.8522032499313354, G Loss: -1.5973320007324219\n",
            "Epoch: 58/100, Step: 55000, D Loss: -0.6561011075973511, G Loss: -2.130927324295044\n",
            "Epoch: 59/100, Step: 55500, D Loss: -0.6424685716629028, G Loss: -3.7035322189331055\n",
            "Epoch: 59/100, Step: 56000, D Loss: -0.7678606510162354, G Loss: -3.3882927894592285\n",
            "Epoch: 60/100, Step: 56500, D Loss: -0.5113024711608887, G Loss: -3.696439266204834\n",
            "Epoch: 60/100, Step: 57000, D Loss: -0.6187679171562195, G Loss: -1.7535057067871094\n",
            "Epoch: 61/100, Step: 57500, D Loss: -0.7168557643890381, G Loss: -1.4347083568572998\n",
            "Epoch: 61/100, Step: 58000, D Loss: -0.7604848742485046, G Loss: -3.9535460472106934\n",
            "Epoch: 62/100, Step: 58500, D Loss: -0.5664970874786377, G Loss: -3.700867176055908\n",
            "Epoch: 62/100, Step: 59000, D Loss: -0.7684774994850159, G Loss: -2.198765277862549\n",
            "Epoch: 63/100, Step: 59500, D Loss: -0.8785176277160645, G Loss: -0.9550000429153442\n",
            "Epoch: 64/100, Step: 60000, D Loss: -0.7407370805740356, G Loss: -3.02875018119812\n",
            "Epoch: 64/100, Step: 60500, D Loss: -0.7695189118385315, G Loss: -3.901988983154297\n",
            "Epoch: 65/100, Step: 61000, D Loss: -0.8148865699768066, G Loss: -2.9019923210144043\n",
            "Epoch: 65/100, Step: 61500, D Loss: -0.40350598096847534, G Loss: -2.540921449661255\n",
            "Epoch: 66/100, Step: 62000, D Loss: -0.6749851107597351, G Loss: -1.351686716079712\n",
            "Epoch: 66/100, Step: 62500, D Loss: -0.7819727659225464, G Loss: -2.1058619022369385\n",
            "Epoch: 67/100, Step: 63000, D Loss: -0.9933777451515198, G Loss: -4.203127861022949\n",
            "Epoch: 67/100, Step: 63500, D Loss: -0.5149714946746826, G Loss: -0.8770980834960938\n",
            "Epoch: 68/100, Step: 64000, D Loss: -0.7615631818771362, G Loss: -3.9817678928375244\n",
            "Epoch: 68/100, Step: 64500, D Loss: -0.7098699808120728, G Loss: -2.6316633224487305\n",
            "Epoch: 69/100, Step: 65000, D Loss: -0.7498603463172913, G Loss: -3.1661219596862793\n",
            "Epoch: 69/100, Step: 65500, D Loss: -0.35774192214012146, G Loss: -1.9505972862243652\n",
            "Epoch: 70/100, Step: 66000, D Loss: -0.5267201066017151, G Loss: -3.615293502807617\n",
            "Epoch: 70/100, Step: 66500, D Loss: -0.6368692517280579, G Loss: -2.19088077545166\n",
            "Epoch: 71/100, Step: 67000, D Loss: -0.392922580242157, G Loss: -0.03805777058005333\n",
            "Epoch: 72/100, Step: 67500, D Loss: -0.6483935117721558, G Loss: -4.409695625305176\n",
            "Epoch: 72/100, Step: 68000, D Loss: -0.8946808576583862, G Loss: -2.206725597381592\n",
            "Epoch: 73/100, Step: 68500, D Loss: -0.3131881356239319, G Loss: -3.446711540222168\n",
            "Epoch: 73/100, Step: 69000, D Loss: -0.6948685646057129, G Loss: -3.6523494720458984\n",
            "Epoch: 74/100, Step: 69500, D Loss: -0.450419157743454, G Loss: -3.4095888137817383\n",
            "Epoch: 74/100, Step: 70000, D Loss: -0.6633507013320923, G Loss: -1.8127524852752686\n",
            "Epoch: 75/100, Step: 70500, D Loss: -0.7827596664428711, G Loss: -0.9511833190917969\n",
            "Epoch: 75/100, Step: 71000, D Loss: -0.4160376489162445, G Loss: -1.1840451955795288\n",
            "Epoch: 76/100, Step: 71500, D Loss: -0.48737698793411255, G Loss: -1.2853386402130127\n",
            "Epoch: 76/100, Step: 72000, D Loss: -0.679135799407959, G Loss: -3.3065249919891357\n",
            "Epoch: 77/100, Step: 72500, D Loss: -0.8418916463851929, G Loss: -3.2491636276245117\n",
            "Epoch: 77/100, Step: 73000, D Loss: -0.6045346260070801, G Loss: -2.5458338260650635\n",
            "Epoch: 78/100, Step: 73500, D Loss: -0.8542008399963379, G Loss: -2.3228302001953125\n",
            "Epoch: 78/100, Step: 74000, D Loss: -0.7387688159942627, G Loss: -3.4856841564178467\n",
            "Epoch: 79/100, Step: 74500, D Loss: -0.6695389151573181, G Loss: -3.43550968170166\n",
            "Epoch: 80/100, Step: 75000, D Loss: -1.191400170326233, G Loss: -2.3000850677490234\n",
            "Epoch: 80/100, Step: 75500, D Loss: -0.541295051574707, G Loss: -1.1265993118286133\n",
            "Epoch: 81/100, Step: 76000, D Loss: -0.675640344619751, G Loss: -2.2194664478302\n",
            "Epoch: 81/100, Step: 76500, D Loss: -0.8322653770446777, G Loss: -1.8389251232147217\n",
            "Epoch: 82/100, Step: 77000, D Loss: -0.7201526761054993, G Loss: -0.012237146496772766\n",
            "Epoch: 82/100, Step: 77500, D Loss: -0.9962847232818604, G Loss: -4.237914085388184\n",
            "Epoch: 83/100, Step: 78000, D Loss: -0.7537475228309631, G Loss: -3.335114002227783\n",
            "Epoch: 83/100, Step: 78500, D Loss: -0.6934030055999756, G Loss: -2.508309841156006\n",
            "Epoch: 84/100, Step: 79000, D Loss: -0.4619845151901245, G Loss: -1.5974801778793335\n",
            "Epoch: 84/100, Step: 79500, D Loss: -0.7120943665504456, G Loss: -0.46406090259552\n",
            "Epoch: 85/100, Step: 80000, D Loss: -0.4077851474285126, G Loss: -2.28898549079895\n",
            "Epoch: 85/100, Step: 80500, D Loss: -0.43056774139404297, G Loss: -2.125643730163574\n",
            "Epoch: 86/100, Step: 81000, D Loss: -0.6331842541694641, G Loss: -2.2371020317077637\n",
            "Epoch: 86/100, Step: 81500, D Loss: -0.6457158327102661, G Loss: -0.15512415766716003\n",
            "Epoch: 87/100, Step: 82000, D Loss: -0.7061306238174438, G Loss: -1.518733024597168\n",
            "Epoch: 88/100, Step: 82500, D Loss: -0.4470951557159424, G Loss: -1.369753122329712\n",
            "Epoch: 88/100, Step: 83000, D Loss: -0.7756438255310059, G Loss: -2.154996156692505\n",
            "Epoch: 89/100, Step: 83500, D Loss: -0.9039024114608765, G Loss: -2.184572696685791\n",
            "Epoch: 89/100, Step: 84000, D Loss: -0.7429944276809692, G Loss: -1.995470404624939\n",
            "Epoch: 90/100, Step: 84500, D Loss: -0.49052292108535767, G Loss: -2.8584237098693848\n",
            "Epoch: 90/100, Step: 85000, D Loss: -0.6859796047210693, G Loss: -1.809694766998291\n",
            "Epoch: 91/100, Step: 85500, D Loss: -0.8703079223632812, G Loss: -2.792933940887451\n",
            "Epoch: 91/100, Step: 86000, D Loss: -0.6489198803901672, G Loss: -1.2380732297897339\n",
            "Epoch: 92/100, Step: 86500, D Loss: -0.19213974475860596, G Loss: -0.8533223867416382\n",
            "Epoch: 92/100, Step: 87000, D Loss: -0.40966862440109253, G Loss: -1.6886422634124756\n",
            "Epoch: 93/100, Step: 87500, D Loss: -0.536736786365509, G Loss: -2.289609432220459\n",
            "Epoch: 93/100, Step: 88000, D Loss: -0.5843228101730347, G Loss: -2.4175381660461426\n",
            "Epoch: 94/100, Step: 88500, D Loss: -0.5869839191436768, G Loss: -1.5272231101989746\n",
            "Epoch: 94/100, Step: 89000, D Loss: -0.4235760569572449, G Loss: -1.469665288925171\n",
            "Epoch: 95/100, Step: 89500, D Loss: -0.6360698938369751, G Loss: -3.6828386783599854\n",
            "Epoch: 96/100, Step: 90000, D Loss: -0.5922678709030151, G Loss: -2.3966691493988037\n",
            "Epoch: 96/100, Step: 90500, D Loss: -0.4387739300727844, G Loss: -0.9398068189620972\n",
            "Epoch: 97/100, Step: 91000, D Loss: -0.7898876070976257, G Loss: -2.3469700813293457\n",
            "Epoch: 97/100, Step: 91500, D Loss: -0.4609144926071167, G Loss: -1.8338427543640137\n",
            "Epoch: 98/100, Step: 92000, D Loss: -0.6256024241447449, G Loss: -3.3862948417663574\n",
            "Epoch: 98/100, Step: 92500, D Loss: -0.63530433177948, G Loss: -2.374842882156372\n",
            "Epoch: 99/100, Step: 93000, D Loss: -0.7065408229827881, G Loss: -2.673889636993408\n",
            "Epoch: 99/100, Step: 93500, D Loss: -0.5705097913742065, G Loss: -2.0859150886535645\n"
          ]
        }
      ]
    },
    {
      "cell_type": "code",
      "metadata": {
        "collapsed": true,
        "id": "5fgqsdqMwNyq"
      },
      "source": [
        ""
      ],
      "execution_count": 25,
      "outputs": []
    },
    {
      "cell_type": "markdown",
      "metadata": {
        "id": "ynRKnc8ywNyq"
      },
      "source": [
        "## Sample"
      ]
    },
    {
      "cell_type": "code",
      "metadata": {
        "id": "CsfjfKpPwNyq",
        "colab": {
          "base_uri": "https://localhost:8080/",
          "height": 286
        },
        "outputId": "4d3b835d-daf5-4ee1-80aa-7b280d958518"
      },
      "source": [
        "# generation to image\n",
        "G.eval()\n",
        "imshow(get_sample_image(G, n_noise), cmap='gray')"
      ],
      "execution_count": 26,
      "outputs": [
        {
          "output_type": "execute_result",
          "data": {
            "text/plain": [
              "<matplotlib.image.AxesImage at 0x7fb71f03a350>"
            ]
          },
          "metadata": {},
          "execution_count": 26
        },
        {
          "output_type": "display_data",
          "data": {
            "image/png": "[encoded data removed]",
            "text/plain": [
              "<Figure size 432x288 with 1 Axes>"
            ]
          },
          "metadata": {
            "needs_background": "light"
          }
        }
      ]
    },
    {
      "cell_type": "code",
      "metadata": {
        "collapsed": true,
        "id": "goleH5SawNyq"
      },
      "source": [
        "def save_checkpoint(state, file_name='checkpoint.pth.tar'):\n",
        "    torch.save(state, file_name)"
      ],
      "execution_count": 27,
      "outputs": []
    },
    {
      "cell_type": "code",
      "metadata": {
        "collapsed": true,
        "id": "ZPfMTs1gwNyq"
      },
      "source": [
        "# Salvar parámetros\n",
        "save_checkpoint({'epoch': epoch + 1, 'state_dict':C.state_dict(), 'optimizer' : C_opt.state_dict()}, 'D_gp.pth.tar')\n",
        "save_checkpoint({'epoch': epoch + 1, 'state_dict':G.state_dict(), 'optimizer' : G_opt.state_dict()}, 'G_gp.pth.tar')"
      ],
      "execution_count": 29,
      "outputs": []
    }
  ]
}